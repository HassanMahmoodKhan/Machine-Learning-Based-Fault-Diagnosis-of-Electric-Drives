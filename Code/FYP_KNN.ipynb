{
  "nbformat": 4,
  "nbformat_minor": 0,
  "metadata": {
    "colab": {
      "name": "FYP - KNN.ipynb",
      "provenance": [],
      "collapsed_sections": []
    },
    "kernelspec": {
      "name": "python3",
      "display_name": "Python 3"
    },
    "language_info": {
      "name": "python"
    }
  },
  "cells": [
    {
      "cell_type": "code",
      "metadata": {
        "id": "j2V_SIi7k_jj"
      },
      "source": [
        "from sklearn import preprocessing\n",
        "from sklearn.model_selection import train_test_split\n",
        "from sklearn.neighbors import KNeighborsClassifier\n",
        "import matplotlib.pyplot as plt\n",
        "import seaborn as sns\n",
        "import pandas as pd\n"
      ],
      "execution_count": null,
      "outputs": []
    },
    {
      "cell_type": "code",
      "metadata": {
        "colab": {
          "base_uri": "https://localhost:8080/",
          "height": 198
        },
        "id": "hxdzNyo6nS9t",
        "outputId": "2e837d0a-fba9-4a3e-a5f8-c93e5af5c6d8"
      },
      "source": [
        "df = pd.read_csv('KNN - Steady State FE.csv')\n",
        "df.head()"
      ],
      "execution_count": null,
      "outputs": [
        {
          "output_type": "execute_result",
          "data": {
            "text/html": [
              "<div>\n",
              "<style scoped>\n",
              "    .dataframe tbody tr th:only-of-type {\n",
              "        vertical-align: middle;\n",
              "    }\n",
              "\n",
              "    .dataframe tbody tr th {\n",
              "        vertical-align: top;\n",
              "    }\n",
              "\n",
              "    .dataframe thead th {\n",
              "        text-align: right;\n",
              "    }\n",
              "</style>\n",
              "<table border=\"1\" class=\"dataframe\">\n",
              "  <thead>\n",
              "    <tr style=\"text-align: right;\">\n",
              "      <th></th>\n",
              "      <th>time</th>\n",
              "      <th>Ia</th>\n",
              "      <th>Ib</th>\n",
              "      <th>Ic</th>\n",
              "      <th>Vab</th>\n",
              "      <th>Torque</th>\n",
              "      <th>Speed</th>\n",
              "      <th>Category</th>\n",
              "    </tr>\n",
              "  </thead>\n",
              "  <tbody>\n",
              "    <tr>\n",
              "      <th>0</th>\n",
              "      <td>-1.260000e-15</td>\n",
              "      <td>-0.020211</td>\n",
              "      <td>-3.584579</td>\n",
              "      <td>-4.712822</td>\n",
              "      <td>9.865765e-01</td>\n",
              "      <td>-0.049039</td>\n",
              "      <td>-0.022882</td>\n",
              "      <td>OLF</td>\n",
              "    </tr>\n",
              "    <tr>\n",
              "      <th>1</th>\n",
              "      <td>3.500000e-01</td>\n",
              "      <td>39.683903</td>\n",
              "      <td>19.006177</td>\n",
              "      <td>24.963238</td>\n",
              "      <td>3.628042e+02</td>\n",
              "      <td>-0.098691</td>\n",
              "      <td>-1.098815</td>\n",
              "      <td>PTGF</td>\n",
              "    </tr>\n",
              "    <tr>\n",
              "      <th>2</th>\n",
              "      <td>7.512479e-02</td>\n",
              "      <td>0.000040</td>\n",
              "      <td>0.000028</td>\n",
              "      <td>0.000031</td>\n",
              "      <td>1.360000e-07</td>\n",
              "      <td>2.817946</td>\n",
              "      <td>0.032558</td>\n",
              "      <td>OLF</td>\n",
              "    </tr>\n",
              "    <tr>\n",
              "      <th>3</th>\n",
              "      <td>-1.260000e-15</td>\n",
              "      <td>-2.694326</td>\n",
              "      <td>-3.012695</td>\n",
              "      <td>-1.211016</td>\n",
              "      <td>3.346673e+00</td>\n",
              "      <td>-0.065432</td>\n",
              "      <td>-0.012803</td>\n",
              "      <td>NOM</td>\n",
              "    </tr>\n",
              "    <tr>\n",
              "      <th>4</th>\n",
              "      <td>3.500000e-01</td>\n",
              "      <td>13.049601</td>\n",
              "      <td>13.049640</td>\n",
              "      <td>13.049629</td>\n",
              "      <td>4.749948e+02</td>\n",
              "      <td>27.789122</td>\n",
              "      <td>146.549910</td>\n",
              "      <td>NOM</td>\n",
              "    </tr>\n",
              "  </tbody>\n",
              "</table>\n",
              "</div>"
            ],
            "text/plain": [
              "           time         Ia         Ib  ...     Torque       Speed  Category\n",
              "0 -1.260000e-15  -0.020211  -3.584579  ...  -0.049039   -0.022882       OLF\n",
              "1  3.500000e-01  39.683903  19.006177  ...  -0.098691   -1.098815      PTGF\n",
              "2  7.512479e-02   0.000040   0.000028  ...   2.817946    0.032558       OLF\n",
              "3 -1.260000e-15  -2.694326  -3.012695  ...  -0.065432   -0.012803       NOM\n",
              "4  3.500000e-01  13.049601  13.049640  ...  27.789122  146.549910       NOM\n",
              "\n",
              "[5 rows x 8 columns]"
            ]
          },
          "metadata": {
            "tags": []
          },
          "execution_count": 5
        }
      ]
    },
    {
      "cell_type": "code",
      "metadata": {
        "id": "gUznKjk2ox4w"
      },
      "source": [
        "df[\"Category\"] = df[\"Category\"].map({\"NOM\" :0, \"PTGF\" :1, \"PTPF\" :2, \"OVF\" :3, \"UVF\" :4, \"OLF\" :5}).astype(int) #mapping numbers\n",
        "df.head()"
      ],
      "execution_count": null,
      "outputs": []
    },
    {
      "cell_type": "code",
      "metadata": {
        "colab": {
          "base_uri": "https://localhost:8080/",
          "height": 369
        },
        "id": "Gx02iOzXpcxA",
        "outputId": "0c67104e-ce91-42ea-f583-9d31d6c21602"
      },
      "source": [
        "sns.set_style('whitegrid');\n",
        "sns.FacetGrid(df, hue='Category', height=5) \\\n",
        ".map(plt.scatter, \"time\", \"Vab\") \\\n",
        ".add_legend();\n",
        "plt.show()"
      ],
      "execution_count": null,
      "outputs": [
        {
          "output_type": "display_data",
          "data": {
            "image/png": "[encoded data removed]",
            "text/plain": [
              "<Figure size 413.375x360 with 1 Axes>"
            ]
          },
          "metadata": {
            "tags": []
          }
        }
      ]
    },
    {
      "cell_type": "code",
      "metadata": {
        "id": "o2DalHaP03Dz"
      },
      "source": [
        "x_data = df.drop(['Category', 'time'],axis=1)\n",
        "y_data = df['Category']\n",
        "MinMaxScaler = preprocessing.MinMaxScaler()\n",
        "X_data_minmax = MinMaxScaler.fit_transform(x_data)\n",
        "data = pd.DataFrame(X_data_minmax,columns=['Ia', 'Ib', 'Ic', 'Vab', 'Torque', 'Speed'])\n"
      ],
      "execution_count": null,
      "outputs": []
    },
    {
      "cell_type": "code",
      "metadata": {
        "id": "JDntqU777dCg"
      },
      "source": [
        "from imblearn.over_sampling import SMOTE \n",
        "smote = SMOTE('minority')\n",
        "X_sm, y_sm = smote.fit_sample(data, y_data)\n",
        "print(X_sm.shape, y_sm.shape)"
      ],
      "execution_count": null,
      "outputs": []
    },
    {
      "cell_type": "code",
      "metadata": {
        "id": "q0imiqzrqHLL"
      },
      "source": [
        "X_train, X_test, y_train, y_test = train_test_split(X_sm, y_sm,test_size=0.2, random_state = 1)\n",
        "knn_clf=KNeighborsClassifier(n_neighbors=1)\n",
        "knn_clf.fit(X_train,y_train)\n",
        "ypred=knn_clf.predict(X_test) #These are the predicted output values"
      ],
      "execution_count": null,
      "outputs": []
    },
    {
      "cell_type": "code",
      "metadata": {
        "colab": {
          "base_uri": "https://localhost:8080/"
        },
        "id": "yG97CJt7qduJ",
        "outputId": "b8f7b64f-5f33-4d25-cf12-902c388bcc4a"
      },
      "source": [
        "from sklearn.metrics import classification_report, confusion_matrix, accuracy_score\n",
        "result = confusion_matrix(y_test, ypred)\n",
        "print(\"Confusion Matrix:\")\n",
        "print(result)\n",
        "result1 = classification_report(y_test, ypred)\n",
        "print(\"Classification Report:\",)\n",
        "print (result1)\n",
        "result2 = accuracy_score(y_test,ypred)\n",
        "print(\"Accuracy:\",result2)"
      ],
      "execution_count": null,
      "outputs": [
        {
          "output_type": "stream",
          "text": [
            "Confusion Matrix:\n",
            "[[19  0  0  0  0  0]\n",
            " [ 0 10  0  0  0  0]\n",
            " [ 0  0  9  0  0  1]\n",
            " [ 0  0  0  6  1  0]\n",
            " [ 0  0  0  0 21  0]\n",
            " [ 0  0  0  0  0  3]]\n",
            "Classification Report:\n",
            "              precision    recall  f1-score   support\n",
            "\n",
            "           0       1.00      1.00      1.00        19\n",
            "           1       1.00      1.00      1.00        10\n",
            "           2       1.00      0.90      0.95        10\n",
            "           3       1.00      0.86      0.92         7\n",
            "           4       0.95      1.00      0.98        21\n",
            "           5       0.75      1.00      0.86         3\n",
            "\n",
            "    accuracy                           0.97        70\n",
            "   macro avg       0.95      0.96      0.95        70\n",
            "weighted avg       0.98      0.97      0.97        70\n",
            "\n",
            "Accuracy: 0.9714285714285714\n"
          ],
          "name": "stdout"
        }
      ]
    }
  ]
}